{
  "nbformat": 4,
  "nbformat_minor": 0,
  "metadata": {
    "colab": {
      "name": "Python_Advance_Assignment_3.ipynb",
      "provenance": []
    },
    "kernelspec": {
      "name": "python3",
      "display_name": "Python 3"
    },
    "language_info": {
      "name": "python"
    }
  },
  "cells": [
    {
      "cell_type": "markdown",
      "source": [
        "Q1). What is the concept of an abstract superclass?\n",
        "\n",
        "Ans) A common superclass for several subclasses"
      ],
      "metadata": {
        "id": "NeiiAMHJBJhQ"
      }
    },
    {
      "cell_type": "markdown",
      "source": [
        "Q2) What happens when a class statement's top level contains a basic assignment statement?\n",
        "\n",
        "Ans) An assignment statement always has a single variable on the left hand side. The value of the expression on the right of the = sign is stored in the variable on the left."
      ],
      "metadata": {
        "id": "rLqcmxOuBJd6"
      }
    },
    {
      "cell_type": "markdown",
      "source": [
        "Q3). Why does a class need to manually call a superclass's __init__ method?\n",
        "\n",
        "Ans) Base class may typically create member variable and initialize them to defaults"
      ],
      "metadata": {
        "id": "WBdb2VO7BJbU"
      }
    },
    {
      "cell_type": "markdown",
      "source": [
        "Q4) How can you augment, instead of completely replacing, an inherited method?\n",
        "\n",
        "Ans) Message forwarding allows the augment an inherited method in such a way that it can perform its inherited action "
      ],
      "metadata": {
        "id": "teNCtCIABJYg"
      }
    },
    {
      "cell_type": "markdown",
      "source": [
        "Q5) How is the local scope of a class different from that of a function?\n",
        "\n",
        "Ans) They can only be accessed from within the function."
      ],
      "metadata": {
        "id": "OuXIMOnoBJVl"
      }
    },
    {
      "cell_type": "markdown",
      "source": [
        ""
      ],
      "metadata": {
        "id": "yIB0Jj49BJS1"
      }
    },
    {
      "cell_type": "code",
      "execution_count": null,
      "metadata": {
        "id": "s8LFBOzh95ax"
      },
      "outputs": [],
      "source": [
        ""
      ]
    }
  ]
}